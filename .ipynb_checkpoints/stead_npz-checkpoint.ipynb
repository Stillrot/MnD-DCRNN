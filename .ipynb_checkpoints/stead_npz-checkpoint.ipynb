{
 "cells": [
  {
   "cell_type": "code",
   "execution_count": 1,
   "id": "1b9c1e75",
   "metadata": {},
   "outputs": [],
   "source": [
    "import pandas as pd\n",
    "import h5py\n",
    "import numpy as np\n",
    "import matplotlib.pyplot as plt\n",
    "#np.savez\n",
    "from datetime import datetime, timedelta"
   ]
  },
  {
   "cell_type": "code",
   "execution_count": 2,
   "id": "31504caa",
   "metadata": {},
   "outputs": [],
   "source": [
    "def string_convertor(dd):\n",
    "    \n",
    "    dd2 = dd.split()\n",
    "    SNR = []\n",
    "    for i, d in enumerate(dd2):\n",
    "        if d != '[' and d != ']':\n",
    "            \n",
    "            dL = d.split('[')\n",
    "            dR = d.split(']')\n",
    "            \n",
    "            if len(dL) == 2:\n",
    "                dig = dL[1]\n",
    "            elif len(dR) == 2:\n",
    "                dig = dR[0]\n",
    "            elif len(dR) == 1 and len(dR) == 1:\n",
    "                dig = d\n",
    "            try:\n",
    "                dig = float(dig)\n",
    "            except Exception:\n",
    "                dig = None\n",
    "                \n",
    "            SNR.append(dig)\n",
    "    return(SNR)\n",
    "\n",
    "def string_convertor_coda(dd):\n",
    "    dd = float(dd[2:-3])\n",
    "    return (dd)"
   ]
  },
  {
   "cell_type": "code",
   "execution_count": null,
   "id": "135ab4b8",
   "metadata": {
    "scrolled": true
   },
   "outputs": [
    {
     "name": "stderr",
     "output_type": "stream",
     "text": [
      "C:\\ProgramData\\Anaconda3\\envs\\deephive\\lib\\site-packages\\IPython\\core\\interactiveshell.py:3072: DtypeWarning: Columns (21) have mixed types.Specify dtype option on import or set low_memory=False.\n",
      "  interactivity=interactivity, compiler=compiler, result=result)\n",
      "C:\\ProgramData\\Anaconda3\\envs\\deephive\\lib\\site-packages\\pandas\\core\\generic.py:5170: SettingWithCopyWarning: \n",
      "A value is trying to be set on a copy of a slice from a DataFrame.\n",
      "Try using .loc[row_indexer,col_indexer] = value instead\n",
      "\n",
      "See the caveats in the documentation: https://pandas.pydata.org/pandas-docs/stable/user_guide/indexing.html#returning-a-view-versus-a-copy\n",
      "  self[name] = value\n",
      "C:\\ProgramData\\Anaconda3\\envs\\deephive\\lib\\site-packages\\IPython\\core\\interactiveshell.py:3072: DtypeWarning: Columns (21) have mixed types.Specify dtype option on import or set low_memory=False.\n",
      "  interactivity=interactivity, compiler=compiler, result=result)\n",
      "C:\\ProgramData\\Anaconda3\\envs\\deephive\\lib\\site-packages\\pandas\\core\\generic.py:5170: SettingWithCopyWarning: \n",
      "A value is trying to be set on a copy of a slice from a DataFrame.\n",
      "Try using .loc[row_indexer,col_indexer] = value instead\n",
      "\n",
      "See the caveats in the documentation: https://pandas.pydata.org/pandas-docs/stable/user_guide/indexing.html#returning-a-view-versus-a-copy\n",
      "  self[name] = value\n",
      "C:\\ProgramData\\Anaconda3\\envs\\deephive\\lib\\site-packages\\IPython\\core\\interactiveshell.py:3072: DtypeWarning: Columns (21) have mixed types.Specify dtype option on import or set low_memory=False.\n",
      "  interactivity=interactivity, compiler=compiler, result=result)\n",
      "C:\\ProgramData\\Anaconda3\\envs\\deephive\\lib\\site-packages\\pandas\\core\\generic.py:5170: SettingWithCopyWarning: \n",
      "A value is trying to be set on a copy of a slice from a DataFrame.\n",
      "Try using .loc[row_indexer,col_indexer] = value instead\n",
      "\n",
      "See the caveats in the documentation: https://pandas.pydata.org/pandas-docs/stable/user_guide/indexing.html#returning-a-view-versus-a-copy\n",
      "  self[name] = value\n",
      "C:\\ProgramData\\Anaconda3\\envs\\deephive\\lib\\site-packages\\IPython\\core\\interactiveshell.py:3072: DtypeWarning: Columns (21) have mixed types.Specify dtype option on import or set low_memory=False.\n",
      "  interactivity=interactivity, compiler=compiler, result=result)\n",
      "C:\\ProgramData\\Anaconda3\\envs\\deephive\\lib\\site-packages\\pandas\\core\\generic.py:5170: SettingWithCopyWarning: \n",
      "A value is trying to be set on a copy of a slice from a DataFrame.\n",
      "Try using .loc[row_indexer,col_indexer] = value instead\n",
      "\n",
      "See the caveats in the documentation: https://pandas.pydata.org/pandas-docs/stable/user_guide/indexing.html#returning-a-view-versus-a-copy\n",
      "  self[name] = value\n"
     ]
    }
   ],
   "source": [
    "ev = []\n",
    "mag = []\n",
    "dis = []\n",
    "p_pick = []\n",
    "s_pick = []\n",
    "sot = []\n",
    "tst = []\n",
    "dep = []\n",
    "dur = []\n",
    "\n",
    "for i in range(1, 7, 1):\n",
    "    file_name = \"D:/STEAD_RAW/hdf5/chunk%d.hdf5\" % (i)\n",
    "    csv_file = \"D:/STEAD_RAW/chunk%d.csv\" % (i)\n",
    "    df = pd.read_csv(csv_file)\n",
    "\n",
    "    # csv를 읽어서 조건에 맞는 행을 df2에 저장\n",
    "    df2 = df[(df.trace_category == 'earthquake_local') & \\\n",
    "             (df.source_distance_km <= 120) & \\\n",
    "            (df.receiver_type == 'HH') & \\\n",
    "             (df.source_magnitude_type == 'ml') & \\\n",
    "             (df.source_magnitude >= 2) & \\\n",
    "             (df.p_arrival_sample >= 500)&\\\n",
    "             (df.p_arrival_sample + 4000 <= 6000)&\\\n",
    "             (df.s_arrival_sample >= 500)&\\\n",
    "             (df.s_arrival_sample <= 3000)&\\\n",
    "             (df.p_travel_sec > 0) & \\\n",
    "             (df.p_travel_sec.notnull()) & \\\n",
    "             (df.source_distance_km > 0) & \\\n",
    "             (df.source_distance_km.notnull()) & \\\n",
    "             (df.source_depth_km.notnull()) & \\\n",
    "             (df.source_magnitude.notnull()) & \\\n",
    "             (df.back_azimuth_deg > 0) & \\\n",
    "             (df.back_azimuth_deg.notnull())]\n",
    "    \n",
    "    df2.snr_db = df2.snr_db.apply(lambda x: np.mean(string_convertor(x)))\n",
    "    df2 = df2[df2.snr_db >= 5]\n",
    "    \n",
    "    ev_list = df2['trace_name'].to_list()\n",
    "    maginitude_list = df2['source_magnitude'].to_list()\n",
    "    distance_list = df2['source_distance_km'].to_list()\n",
    "    p_picking_list = df2['p_arrival_sample'].to_list()\n",
    "    s_picking_list = df2['s_arrival_sample'].to_list()\n",
    "\n",
    "    dtfl = h5py.File(file_name, 'r')\n",
    "    for c, zips in enumerate(zip(ev_list, maginitude_list, distance_list, p_picking_list, s_picking_list)):\n",
    "        dataset = dtfl.get('data/' + str(zips[0]))\n",
    "        ev_data = np.array(dataset)\n",
    "\n",
    "        ev.append(ev_data)\n",
    "        mag.append(zips[1])\n",
    "        dis.append(zips[2])\n",
    "        p_pick.append(zips[3])\n",
    "        s_pick.append(zips[4])\n",
    "        \n",
    "save_file_name = 'E:/1104dataset_MAG_better2_typeall'\n",
    "np.savez(save_file_name, ev = ev, mag = mag, dis = dis, p_pick = p_pick, s_pick = s_pick)"
   ]
  },
  {
   "cell_type": "code",
   "execution_count": null,
   "id": "955dcaeb",
   "metadata": {},
   "outputs": [],
   "source": [
    "len(mag)"
   ]
  },
  {
   "cell_type": "code",
   "execution_count": 22,
   "id": "f0d6f073",
   "metadata": {},
   "outputs": [
    {
     "data": {
      "text/plain": [
       "([<matplotlib.lines.Line2D at 0x24b9302abe0>,\n",
       "  <matplotlib.lines.Line2D at 0x24b9302ac50>,\n",
       "  <matplotlib.lines.Line2D at 0x24b9302ad68>],\n",
       " 3.3)"
      ]
     },
     "execution_count": 22,
     "metadata": {},
     "output_type": "execute_result"
    },
    {
     "data": {
      "image/png": "[encoded data removed]",
      "text/plain": [
       "<Figure size 432x288 with 1 Axes>"
      ]
     },
     "metadata": {
      "needs_background": "light"
     },
     "output_type": "display_data"
    }
   ],
   "source": [
    "num = 224\n",
    "plt.plot(ev[num]), mag[num]"
   ]
  },
  {
   "cell_type": "code",
   "execution_count": null,
   "id": "864dec0d",
   "metadata": {},
   "outputs": [],
   "source": []
  },
  {
   "cell_type": "code",
   "execution_count": null,
   "id": "aab24978",
   "metadata": {},
   "outputs": [],
   "source": []
  },
  {
   "cell_type": "code",
   "execution_count": null,
   "id": "84c9bf39",
   "metadata": {},
   "outputs": [],
   "source": []
  },
  {
   "cell_type": "code",
   "execution_count": null,
   "id": "b141267d",
   "metadata": {},
   "outputs": [],
   "source": []
  },
  {
   "cell_type": "code",
   "execution_count": 7,
   "id": "1a9a8be1",
   "metadata": {},
   "outputs": [
    {
     "data": {
      "text/plain": [
       "\"\\n    46857\\n    df2 = df[(df.trace_category == 'earthquake_local') &             (df.source_distance_km <= 300) &             (df.receiver_type == 'HH')]\\n\""
      ]
     },
     "execution_count": 7,
     "metadata": {},
     "output_type": "execute_result"
    }
   ],
   "source": [
    "'''\n",
    "    46857\n",
    "    df2 = df[(df.trace_category == 'earthquake_local') &\\\n",
    "             (df.source_distance_km <= 300) &\\\n",
    "             (df.receiver_type == 'HH')]\n",
    "'''"
   ]
  },
  {
   "cell_type": "code",
   "execution_count": 8,
   "id": "e94141df",
   "metadata": {},
   "outputs": [
    {
     "data": {
      "text/plain": [
       "\"\\n    약 37000\\n    df2 = df[(df.trace_category == 'earthquake_local') &             (df.source_distance_km <= 150) &             (df.receiver_type == 'HH')]\\n\""
      ]
     },
     "execution_count": 8,
     "metadata": {},
     "output_type": "execute_result"
    }
   ],
   "source": [
    "'''\n",
    "    약 37000\n",
    "    df2 = df[(df.trace_category == 'earthquake_local') &\\\n",
    "             (df.source_distance_km <= 150) &\\\n",
    "             (df.receiver_type == 'HH')]\n",
    "'''"
   ]
  },
  {
   "cell_type": "code",
   "execution_count": 9,
   "id": "4d2dadcd",
   "metadata": {},
   "outputs": [
    {
     "data": {
      "text/plain": [
       "\"\\n    약 6700\\n    df2 = df[(df.trace_category == 'earthquake_local') &              (df.source_distance_km <= 120) &             (df.receiver_type == 'HH') &             (df.source_magnitude_type == 'ml') &              (df.p_arrival_sample >= 500)&             (df.p_arrival_sample + 4000 <= 6000)&             (df.s_arrival_sample >= 500)&             (df.s_arrival_sample <= 3000)&             (df.p_travel_sec > 0) &              (df.p_travel_sec.notnull()) &              (df.source_distance_km > 0) &              (df.source_distance_km.notnull()) &              (df.source_depth_km.notnull()) &              (df.source_magnitude.notnull()) &              (df.back_azimuth_deg > 0) &              (df.back_azimuth_deg.notnull())]\\n\""
      ]
     },
     "execution_count": 9,
     "metadata": {},
     "output_type": "execute_result"
    }
   ],
   "source": [
    "'''\n",
    "    약 6700\n",
    "    df2 = df[(df.trace_category == 'earthquake_local') & \\\n",
    "             (df.source_distance_km <= 120) & \\\n",
    "            (df.receiver_type == 'HH') & \\\n",
    "            (df.source_magnitude_type == 'ml') & \\\n",
    "             (df.p_arrival_sample >= 500)&\\\n",
    "             (df.p_arrival_sample + 4000 <= 6000)&\\\n",
    "             (df.s_arrival_sample >= 500)&\\\n",
    "             (df.s_arrival_sample <= 3000)&\\\n",
    "             (df.p_travel_sec > 0) & \\\n",
    "             (df.p_travel_sec.notnull()) & \\\n",
    "             (df.source_distance_km > 0) & \\\n",
    "             (df.source_distance_km.notnull()) & \\\n",
    "             (df.source_depth_km.notnull()) & \\\n",
    "             (df.source_magnitude.notnull()) & \\\n",
    "             (df.back_azimuth_deg > 0) & \\\n",
    "             (df.back_azimuth_deg.notnull())]\n",
    "'''"
   ]
  }
 ],
 "metadata": {
  "kernelspec": {
   "display_name": "Python 3",
   "language": "python",
   "name": "python3"
  },
  "language_info": {
   "codemirror_mode": {
    "name": "ipython",
    "version": 3
   },
   "file_extension": ".py",
   "mimetype": "text/x-python",
   "name": "python",
   "nbconvert_exporter": "python",
   "pygments_lexer": "ipython3",
   "version": "3.6.13"
  }
 },
 "nbformat": 4,
 "nbformat_minor": 5
}
